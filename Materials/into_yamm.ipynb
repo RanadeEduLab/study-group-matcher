{
 "cells": [
  {
   "cell_type": "code",
   "execution_count": null,
   "id": "2ffc2286",
   "metadata": {},
   "outputs": [],
   "source": [
    "import pandas as pd "
   ]
  },
  {
   "cell_type": "markdown",
   "id": "c5bc6826",
   "metadata": {},
   "source": [
    "### Script to convert your output.csv file into a format that is compatible with YAMM"
   ]
  },
  {
   "cell_type": "code",
   "execution_count": null,
   "id": "5130a02b",
   "metadata": {},
   "outputs": [],
   "source": [
    "path = \"...\" # path to your output.csv file\n",
    "df = pd.read_csv(path + \".csv\")\n",
    "df.head(7)"
   ]
  },
  {
   "cell_type": "code",
   "execution_count": null,
   "id": "c84dd65e",
   "metadata": {},
   "outputs": [],
   "source": [
    "df['name str'] = df.apply(lambda x: x['first'] + ' ' + x['last'] + ': ' + x['email'], axis=1)\n",
    "df['email contrib'] = df.apply(lambda x: x['first'] + ' ' + x['last'] if x['is_leader'] else '', axis=1)\n",
    "df.head()"
   ]
  },
  {
   "cell_type": "code",
   "execution_count": null,
   "id": "69eb4127",
   "metadata": {},
   "outputs": [],
   "source": [
    "groups = df.groupby('group_num')\n",
    "df[\"group str\"] = groups['name str'].transform(lambda x: '; '.join(x))\n",
    "df.iloc[0]['group str']"
   ]
  },
  {
   "cell_type": "code",
   "execution_count": null,
   "id": "e372ebe8",
   "metadata": {},
   "outputs": [],
   "source": [
    "df[\"leader str\"] = groups['email contrib'].transform(lambda x: ', '.join([i for i in x if i]))\n",
    "df.iloc[0]['leader str']"
   ]
  },
  {
   "cell_type": "code",
   "execution_count": null,
   "id": "1d6248af",
   "metadata": {},
   "outputs": [],
   "source": [
    "df.to_csv(path + \"_yamm.csv\")"
   ]
  },
  {
   "cell_type": "markdown",
   "id": "16ff61d4",
   "metadata": {},
   "source": [
    "### Below is an email template that is compatible with your ..._yamm.csv file\n",
    "\n",
    "Hi {{first}},\n",
    "\n",
    "Thank you for filling out our Group Matching form! Here are your assigned groupmates:\n",
    "{{group str}}.\n",
    "\n",
    "The following student(s) volunteered to lead: {{leader str}}. If you volunteered to lead your group, reach out and initiate a meeting! Even if you are not the assigned leader of the group, reach out to your groupmates anyway. We tried to match people according to their indicated preferences and to have at least one leader in every group, but this was not always possible, and we prioritized matching your preferences over giving every group a leader.\n",
    "\n",
    "[Extra]"
   ]
  }
 ],
 "metadata": {
  "kernelspec": {
   "display_name": "Python 3",
   "language": "python",
   "name": "python3"
  },
  "language_info": {
   "codemirror_mode": {
    "name": "ipython",
    "version": 3
   },
   "file_extension": ".py",
   "mimetype": "text/x-python",
   "name": "python",
   "nbconvert_exporter": "python",
   "pygments_lexer": "ipython3",
   "version": "3.9.13"
  },
  "vscode": {
   "interpreter": {
    "hash": "aee8b7b246df8f9039afb4144a1f6fd8d2ca17a180786b69acc140d282b71a49"
   }
  }
 },
 "nbformat": 4,
 "nbformat_minor": 5
}
